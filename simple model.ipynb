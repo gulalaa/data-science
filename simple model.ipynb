{
 "cells": [
  {
   "cell_type": "code",
   "execution_count": 2,
   "metadata": {},
   "outputs": [
    {
     "name": "stdout",
     "output_type": "stream",
     "text": [
      "['.idea', '.ipynb_checkpoints', 'a-simple-plot.png', 'baseline_lgb.csv', 'dataread.ipynb', 'datashow.py', 'gulala.ipynb', 'input', 'read.py', 'results.zip', 'sample_submission_v2.csv', 'simple model.ipynb', 'test-flattened.csv', 'test_v2.csv', 'train-flattened.csv', 'train_v2.csv']\n"
     ]
    }
   ],
   "source": [
    "import os\n",
    "print(os.listdir())"
   ]
  },
  {
   "cell_type": "code",
   "execution_count": 3,
   "metadata": {},
   "outputs": [],
   "source": [
    "import pandas as pd\n",
    "import numpy as np\n",
    "import matplotlib.pyplot as plt\n",
    "import seaborn as sns\n",
    "from sklearn.metrics import mean_squared_error\n",
    "import gc\n",
    "import time\n",
    "from pandas.core.common import SettingWithCopyWarning\n",
    "import warnings\n",
    "import lightgbm as lgb\n",
    "from sklearn.model_selection import GroupKFold\n",
    "\n",
    "# I don't like SettingWithCopyWarnings ...\n",
    "warnings.simplefilter('error', SettingWithCopyWarning)\n",
    "gc.enable()\n",
    "%matplotlib inline\n"
   ]
  },
  {
   "cell_type": "code",
   "execution_count": 16,
   "metadata": {},
   "outputs": [],
   "source": [
    "x=pd.Series(['','.'])"
   ]
  },
  {
   "cell_type": "code",
   "execution_count": 17,
   "metadata": {},
   "outputs": [
    {
     "name": "stdout",
     "output_type": "stream",
     "text": [
      "True\n"
     ]
    }
   ],
   "source": [
    "if x.dtype == 'object':\n",
    "    print(True)"
   ]
  },
  {
   "cell_type": "code",
   "execution_count": 24,
   "metadata": {},
   "outputs": [],
   "source": [
    "train = pd.read_csv('train_v2.csv', dtype='object', nrows=200, encoding='utf-8')"
   ]
  },
  {
   "cell_type": "code",
   "execution_count": 25,
   "metadata": {},
   "outputs": [
    {
     "data": {
      "text/html": [
       "<div>\n",
       "<style scoped>\n",
       "    .dataframe tbody tr th:only-of-type {\n",
       "        vertical-align: middle;\n",
       "    }\n",
       "\n",
       "    .dataframe tbody tr th {\n",
       "        vertical-align: top;\n",
       "    }\n",
       "\n",
       "    .dataframe thead th {\n",
       "        text-align: right;\n",
       "    }\n",
       "</style>\n",
       "<table border=\"1\" class=\"dataframe\">\n",
       "  <thead>\n",
       "    <tr style=\"text-align: right;\">\n",
       "      <th></th>\n",
       "      <th>channelGrouping</th>\n",
       "      <th>customDimensions</th>\n",
       "      <th>date</th>\n",
       "      <th>device</th>\n",
       "      <th>fullVisitorId</th>\n",
       "      <th>geoNetwork</th>\n",
       "      <th>hits</th>\n",
       "      <th>socialEngagementType</th>\n",
       "      <th>totals</th>\n",
       "      <th>trafficSource</th>\n",
       "      <th>visitId</th>\n",
       "      <th>visitNumber</th>\n",
       "      <th>visitStartTime</th>\n",
       "    </tr>\n",
       "  </thead>\n",
       "  <tbody>\n",
       "    <tr>\n",
       "      <th>0</th>\n",
       "      <td>Organic Search</td>\n",
       "      <td>[{'index': '4', 'value': 'EMEA'}]</td>\n",
       "      <td>20171016</td>\n",
       "      <td>{\"browser\": \"Firefox\", \"browserVersion\": \"not ...</td>\n",
       "      <td>3162355547410993243</td>\n",
       "      <td>{\"continent\": \"Europe\", \"subContinent\": \"Weste...</td>\n",
       "      <td>[{'hitNumber': '1', 'time': '0', 'hour': '17',...</td>\n",
       "      <td>Not Socially Engaged</td>\n",
       "      <td>{\"visits\": \"1\", \"hits\": \"1\", \"pageviews\": \"1\",...</td>\n",
       "      <td>{\"campaign\": \"(not set)\", \"source\": \"google\", ...</td>\n",
       "      <td>1508198450</td>\n",
       "      <td>1</td>\n",
       "      <td>1508198450</td>\n",
       "    </tr>\n",
       "    <tr>\n",
       "      <th>1</th>\n",
       "      <td>Referral</td>\n",
       "      <td>[{'index': '4', 'value': 'North America'}]</td>\n",
       "      <td>20171016</td>\n",
       "      <td>{\"browser\": \"Chrome\", \"browserVersion\": \"not a...</td>\n",
       "      <td>8934116514970143966</td>\n",
       "      <td>{\"continent\": \"Americas\", \"subContinent\": \"Nor...</td>\n",
       "      <td>[{'hitNumber': '1', 'time': '0', 'hour': '10',...</td>\n",
       "      <td>Not Socially Engaged</td>\n",
       "      <td>{\"visits\": \"1\", \"hits\": \"2\", \"pageviews\": \"2\",...</td>\n",
       "      <td>{\"referralPath\": \"/a/google.com/transportation...</td>\n",
       "      <td>1508176307</td>\n",
       "      <td>6</td>\n",
       "      <td>1508176307</td>\n",
       "    </tr>\n",
       "    <tr>\n",
       "      <th>2</th>\n",
       "      <td>Direct</td>\n",
       "      <td>[{'index': '4', 'value': 'North America'}]</td>\n",
       "      <td>20171016</td>\n",
       "      <td>{\"browser\": \"Chrome\", \"browserVersion\": \"not a...</td>\n",
       "      <td>7992466427990357681</td>\n",
       "      <td>{\"continent\": \"Americas\", \"subContinent\": \"Nor...</td>\n",
       "      <td>[{'hitNumber': '1', 'time': '0', 'hour': '17',...</td>\n",
       "      <td>Not Socially Engaged</td>\n",
       "      <td>{\"visits\": \"1\", \"hits\": \"2\", \"pageviews\": \"2\",...</td>\n",
       "      <td>{\"campaign\": \"(not set)\", \"source\": \"(direct)\"...</td>\n",
       "      <td>1508201613</td>\n",
       "      <td>1</td>\n",
       "      <td>1508201613</td>\n",
       "    </tr>\n",
       "    <tr>\n",
       "      <th>3</th>\n",
       "      <td>Organic Search</td>\n",
       "      <td>[{'index': '4', 'value': 'EMEA'}]</td>\n",
       "      <td>20171016</td>\n",
       "      <td>{\"browser\": \"Chrome\", \"browserVersion\": \"not a...</td>\n",
       "      <td>9075655783635761930</td>\n",
       "      <td>{\"continent\": \"Asia\", \"subContinent\": \"Western...</td>\n",
       "      <td>[{'hitNumber': '1', 'time': '0', 'hour': '9', ...</td>\n",
       "      <td>Not Socially Engaged</td>\n",
       "      <td>{\"visits\": \"1\", \"hits\": \"2\", \"pageviews\": \"2\",...</td>\n",
       "      <td>{\"campaign\": \"(not set)\", \"source\": \"google\", ...</td>\n",
       "      <td>1508169851</td>\n",
       "      <td>1</td>\n",
       "      <td>1508169851</td>\n",
       "    </tr>\n",
       "    <tr>\n",
       "      <th>4</th>\n",
       "      <td>Organic Search</td>\n",
       "      <td>[{'index': '4', 'value': 'Central America'}]</td>\n",
       "      <td>20171016</td>\n",
       "      <td>{\"browser\": \"Chrome\", \"browserVersion\": \"not a...</td>\n",
       "      <td>6960673291025684308</td>\n",
       "      <td>{\"continent\": \"Americas\", \"subContinent\": \"Cen...</td>\n",
       "      <td>[{'hitNumber': '1', 'time': '0', 'hour': '14',...</td>\n",
       "      <td>Not Socially Engaged</td>\n",
       "      <td>{\"visits\": \"1\", \"hits\": \"2\", \"pageviews\": \"2\",...</td>\n",
       "      <td>{\"campaign\": \"(not set)\", \"source\": \"google\", ...</td>\n",
       "      <td>1508190552</td>\n",
       "      <td>1</td>\n",
       "      <td>1508190552</td>\n",
       "    </tr>\n",
       "  </tbody>\n",
       "</table>\n",
       "</div>"
      ],
      "text/plain": [
       "  channelGrouping                              customDimensions      date  \\\n",
       "0  Organic Search             [{'index': '4', 'value': 'EMEA'}]  20171016   \n",
       "1        Referral    [{'index': '4', 'value': 'North America'}]  20171016   \n",
       "2          Direct    [{'index': '4', 'value': 'North America'}]  20171016   \n",
       "3  Organic Search             [{'index': '4', 'value': 'EMEA'}]  20171016   \n",
       "4  Organic Search  [{'index': '4', 'value': 'Central America'}]  20171016   \n",
       "\n",
       "                                              device        fullVisitorId  \\\n",
       "0  {\"browser\": \"Firefox\", \"browserVersion\": \"not ...  3162355547410993243   \n",
       "1  {\"browser\": \"Chrome\", \"browserVersion\": \"not a...  8934116514970143966   \n",
       "2  {\"browser\": \"Chrome\", \"browserVersion\": \"not a...  7992466427990357681   \n",
       "3  {\"browser\": \"Chrome\", \"browserVersion\": \"not a...  9075655783635761930   \n",
       "4  {\"browser\": \"Chrome\", \"browserVersion\": \"not a...  6960673291025684308   \n",
       "\n",
       "                                          geoNetwork  \\\n",
       "0  {\"continent\": \"Europe\", \"subContinent\": \"Weste...   \n",
       "1  {\"continent\": \"Americas\", \"subContinent\": \"Nor...   \n",
       "2  {\"continent\": \"Americas\", \"subContinent\": \"Nor...   \n",
       "3  {\"continent\": \"Asia\", \"subContinent\": \"Western...   \n",
       "4  {\"continent\": \"Americas\", \"subContinent\": \"Cen...   \n",
       "\n",
       "                                                hits  socialEngagementType  \\\n",
       "0  [{'hitNumber': '1', 'time': '0', 'hour': '17',...  Not Socially Engaged   \n",
       "1  [{'hitNumber': '1', 'time': '0', 'hour': '10',...  Not Socially Engaged   \n",
       "2  [{'hitNumber': '1', 'time': '0', 'hour': '17',...  Not Socially Engaged   \n",
       "3  [{'hitNumber': '1', 'time': '0', 'hour': '9', ...  Not Socially Engaged   \n",
       "4  [{'hitNumber': '1', 'time': '0', 'hour': '14',...  Not Socially Engaged   \n",
       "\n",
       "                                              totals  \\\n",
       "0  {\"visits\": \"1\", \"hits\": \"1\", \"pageviews\": \"1\",...   \n",
       "1  {\"visits\": \"1\", \"hits\": \"2\", \"pageviews\": \"2\",...   \n",
       "2  {\"visits\": \"1\", \"hits\": \"2\", \"pageviews\": \"2\",...   \n",
       "3  {\"visits\": \"1\", \"hits\": \"2\", \"pageviews\": \"2\",...   \n",
       "4  {\"visits\": \"1\", \"hits\": \"2\", \"pageviews\": \"2\",...   \n",
       "\n",
       "                                       trafficSource     visitId visitNumber  \\\n",
       "0  {\"campaign\": \"(not set)\", \"source\": \"google\", ...  1508198450           1   \n",
       "1  {\"referralPath\": \"/a/google.com/transportation...  1508176307           6   \n",
       "2  {\"campaign\": \"(not set)\", \"source\": \"(direct)\"...  1508201613           1   \n",
       "3  {\"campaign\": \"(not set)\", \"source\": \"google\", ...  1508169851           1   \n",
       "4  {\"campaign\": \"(not set)\", \"source\": \"google\", ...  1508190552           1   \n",
       "\n",
       "  visitStartTime  \n",
       "0     1508198450  \n",
       "1     1508176307  \n",
       "2     1508201613  \n",
       "3     1508169851  \n",
       "4     1508190552  "
      ]
     },
     "execution_count": 25,
     "metadata": {},
     "output_type": "execute_result"
    }
   ],
   "source": [
    "train.head()"
   ]
  },
  {
   "cell_type": "code",
   "execution_count": 31,
   "metadata": {
    "scrolled": true
   },
   "outputs": [
    {
     "data": {
      "text/plain": [
       "((903653, 30), (804684, 30))"
      ]
     },
     "execution_count": 31,
     "metadata": {},
     "output_type": "execute_result"
    }
   ],
   "source": [
    "train = pd.read_csv('extracted_fields_train', \n",
    "                    dtype={'date': str, 'fullVisitorId': str, 'sessionId':str}, nrows=None)\n",
    "test = pd.read_csv('extracted_fields_test',\n",
    "                   dtype={'date': str, 'fullVisitorId': str, 'sessionId':str}, nrows=None)\n",
    "train.shape, test.shape"
   ]
  },
  {
   "cell_type": "code",
   "execution_count": 32,
   "metadata": {},
   "outputs": [],
   "source": [
    "def get_folds(df=None, n_splits=5):\n",
    "    \"\"\"Returns dataframe indices corresponding to Visitors Group KFold\"\"\"\n",
    "    # Get sorted unique visitors\n",
    "    unique_vis = np.array(sorted(df['fullVisitorId'].unique()))\n",
    "\n",
    "    # Get folds\n",
    "    folds = GroupKFold(n_splits=n_splits)\n",
    "    fold_ids = []\n",
    "    ids = np.arange(df.shape[0])\n",
    "    for trn_vis, val_vis in folds.split(X=unique_vis, y=unique_vis, groups=unique_vis):\n",
    "        fold_ids.append(\n",
    "            [\n",
    "                ids[df['fullVisitorId'].isin(unique_vis[trn_vis])],\n",
    "                ids[df['fullVisitorId'].isin(unique_vis[val_vis])]\n",
    "            ]\n",
    "        )\n",
    "\n",
    "    return fold_ids"
   ]
  },
  {
   "cell_type": "code",
   "execution_count": 33,
   "metadata": {},
   "outputs": [],
   "source": [
    "y_reg = train['totals.transactionRevenue'].fillna(0)\n",
    "del train['totals.transactionRevenue']\n",
    "\n",
    "if 'totals.transactionRevenue' in test.columns:\n",
    "    del test['totals.transactionRevenue']"
   ]
  },
  {
   "cell_type": "code",
   "execution_count": 53,
   "metadata": {},
   "outputs": [
    {
     "data": {
      "text/html": [
       "<div>\n",
       "<style scoped>\n",
       "    .dataframe tbody tr th:only-of-type {\n",
       "        vertical-align: middle;\n",
       "    }\n",
       "\n",
       "    .dataframe tbody tr th {\n",
       "        vertical-align: top;\n",
       "    }\n",
       "\n",
       "    .dataframe thead th {\n",
       "        text-align: right;\n",
       "    }\n",
       "</style>\n",
       "<table border=\"1\" class=\"dataframe\">\n",
       "  <thead>\n",
       "    <tr style=\"text-align: right;\">\n",
       "      <th></th>\n",
       "      <th>channelGrouping</th>\n",
       "      <th>date</th>\n",
       "      <th>fullVisitorId</th>\n",
       "      <th>sessionId</th>\n",
       "      <th>visitId</th>\n",
       "      <th>visitNumber</th>\n",
       "      <th>visitStartTime</th>\n",
       "      <th>device.browser</th>\n",
       "      <th>device.deviceCategory</th>\n",
       "      <th>device.isMobile</th>\n",
       "      <th>...</th>\n",
       "      <th>totals.hits</th>\n",
       "      <th>totals.newVisits</th>\n",
       "      <th>totals.pageviews</th>\n",
       "      <th>trafficSource.adContent</th>\n",
       "      <th>trafficSource.campaign</th>\n",
       "      <th>trafficSource.isTrueDirect</th>\n",
       "      <th>trafficSource.keyword</th>\n",
       "      <th>trafficSource.medium</th>\n",
       "      <th>trafficSource.referralPath</th>\n",
       "      <th>trafficSource.source</th>\n",
       "    </tr>\n",
       "  </thead>\n",
       "  <tbody>\n",
       "    <tr>\n",
       "      <th>0</th>\n",
       "      <td>Organic Search</td>\n",
       "      <td>20160902</td>\n",
       "      <td>1131660440785968503</td>\n",
       "      <td>1131660440785968503_1472830385</td>\n",
       "      <td>1.472830e+09</td>\n",
       "      <td>1.0</td>\n",
       "      <td>1.472830e+09</td>\n",
       "      <td>Chrome</td>\n",
       "      <td>desktop</td>\n",
       "      <td>0.0</td>\n",
       "      <td>...</td>\n",
       "      <td>1.0</td>\n",
       "      <td>1.0</td>\n",
       "      <td>1.0</td>\n",
       "      <td>NaN</td>\n",
       "      <td>(not set)</td>\n",
       "      <td>NaN</td>\n",
       "      <td>(not provided)</td>\n",
       "      <td>organic</td>\n",
       "      <td>NaN</td>\n",
       "      <td>google</td>\n",
       "    </tr>\n",
       "    <tr>\n",
       "      <th>1</th>\n",
       "      <td>Organic Search</td>\n",
       "      <td>20160902</td>\n",
       "      <td>377306020877927890</td>\n",
       "      <td>377306020877927890_1472880147</td>\n",
       "      <td>1.472880e+09</td>\n",
       "      <td>1.0</td>\n",
       "      <td>1.472880e+09</td>\n",
       "      <td>Firefox</td>\n",
       "      <td>desktop</td>\n",
       "      <td>0.0</td>\n",
       "      <td>...</td>\n",
       "      <td>1.0</td>\n",
       "      <td>1.0</td>\n",
       "      <td>1.0</td>\n",
       "      <td>NaN</td>\n",
       "      <td>(not set)</td>\n",
       "      <td>NaN</td>\n",
       "      <td>(not provided)</td>\n",
       "      <td>organic</td>\n",
       "      <td>NaN</td>\n",
       "      <td>google</td>\n",
       "    </tr>\n",
       "    <tr>\n",
       "      <th>2</th>\n",
       "      <td>Organic Search</td>\n",
       "      <td>20160902</td>\n",
       "      <td>3895546263509774583</td>\n",
       "      <td>3895546263509774583_1472865386</td>\n",
       "      <td>1.472865e+09</td>\n",
       "      <td>1.0</td>\n",
       "      <td>1.472865e+09</td>\n",
       "      <td>Chrome</td>\n",
       "      <td>desktop</td>\n",
       "      <td>0.0</td>\n",
       "      <td>...</td>\n",
       "      <td>1.0</td>\n",
       "      <td>1.0</td>\n",
       "      <td>1.0</td>\n",
       "      <td>NaN</td>\n",
       "      <td>(not set)</td>\n",
       "      <td>NaN</td>\n",
       "      <td>(not provided)</td>\n",
       "      <td>organic</td>\n",
       "      <td>NaN</td>\n",
       "      <td>google</td>\n",
       "    </tr>\n",
       "    <tr>\n",
       "      <th>3</th>\n",
       "      <td>Organic Search</td>\n",
       "      <td>20160902</td>\n",
       "      <td>4763447161404445595</td>\n",
       "      <td>4763447161404445595_1472881213</td>\n",
       "      <td>1.472881e+09</td>\n",
       "      <td>1.0</td>\n",
       "      <td>1.472881e+09</td>\n",
       "      <td>UC Browser</td>\n",
       "      <td>desktop</td>\n",
       "      <td>0.0</td>\n",
       "      <td>...</td>\n",
       "      <td>1.0</td>\n",
       "      <td>1.0</td>\n",
       "      <td>1.0</td>\n",
       "      <td>NaN</td>\n",
       "      <td>(not set)</td>\n",
       "      <td>NaN</td>\n",
       "      <td>google + online</td>\n",
       "      <td>organic</td>\n",
       "      <td>NaN</td>\n",
       "      <td>google</td>\n",
       "    </tr>\n",
       "    <tr>\n",
       "      <th>4</th>\n",
       "      <td>Organic Search</td>\n",
       "      <td>20160902</td>\n",
       "      <td>27294437909732085</td>\n",
       "      <td>27294437909732085_1472822600</td>\n",
       "      <td>1.472823e+09</td>\n",
       "      <td>2.0</td>\n",
       "      <td>1.472823e+09</td>\n",
       "      <td>Chrome</td>\n",
       "      <td>mobile</td>\n",
       "      <td>1.0</td>\n",
       "      <td>...</td>\n",
       "      <td>1.0</td>\n",
       "      <td>NaN</td>\n",
       "      <td>1.0</td>\n",
       "      <td>NaN</td>\n",
       "      <td>(not set)</td>\n",
       "      <td>1.0</td>\n",
       "      <td>(not provided)</td>\n",
       "      <td>organic</td>\n",
       "      <td>NaN</td>\n",
       "      <td>google</td>\n",
       "    </tr>\n",
       "  </tbody>\n",
       "</table>\n",
       "<p>5 rows × 29 columns</p>\n",
       "</div>"
      ],
      "text/plain": [
       "  channelGrouping      date        fullVisitorId  \\\n",
       "0  Organic Search  20160902  1131660440785968503   \n",
       "1  Organic Search  20160902   377306020877927890   \n",
       "2  Organic Search  20160902  3895546263509774583   \n",
       "3  Organic Search  20160902  4763447161404445595   \n",
       "4  Organic Search  20160902    27294437909732085   \n",
       "\n",
       "                        sessionId       visitId  visitNumber  visitStartTime  \\\n",
       "0  1131660440785968503_1472830385  1.472830e+09          1.0    1.472830e+09   \n",
       "1   377306020877927890_1472880147  1.472880e+09          1.0    1.472880e+09   \n",
       "2  3895546263509774583_1472865386  1.472865e+09          1.0    1.472865e+09   \n",
       "3  4763447161404445595_1472881213  1.472881e+09          1.0    1.472881e+09   \n",
       "4    27294437909732085_1472822600  1.472823e+09          2.0    1.472823e+09   \n",
       "\n",
       "  device.browser device.deviceCategory  device.isMobile  ... totals.hits  \\\n",
       "0         Chrome               desktop              0.0  ...         1.0   \n",
       "1        Firefox               desktop              0.0  ...         1.0   \n",
       "2         Chrome               desktop              0.0  ...         1.0   \n",
       "3     UC Browser               desktop              0.0  ...         1.0   \n",
       "4         Chrome                mobile              1.0  ...         1.0   \n",
       "\n",
       "  totals.newVisits totals.pageviews trafficSource.adContent  \\\n",
       "0              1.0              1.0                     NaN   \n",
       "1              1.0              1.0                     NaN   \n",
       "2              1.0              1.0                     NaN   \n",
       "3              1.0              1.0                     NaN   \n",
       "4              NaN              1.0                     NaN   \n",
       "\n",
       "  trafficSource.campaign trafficSource.isTrueDirect trafficSource.keyword  \\\n",
       "0              (not set)                        NaN        (not provided)   \n",
       "1              (not set)                        NaN        (not provided)   \n",
       "2              (not set)                        NaN        (not provided)   \n",
       "3              (not set)                        NaN       google + online   \n",
       "4              (not set)                        1.0        (not provided)   \n",
       "\n",
       "  trafficSource.medium  trafficSource.referralPath  trafficSource.source  \n",
       "0              organic                         NaN                google  \n",
       "1              organic                         NaN                google  \n",
       "2              organic                         NaN                google  \n",
       "3              organic                         NaN                google  \n",
       "4              organic                         NaN                google  \n",
       "\n",
       "[5 rows x 29 columns]"
      ]
     },
     "execution_count": 53,
     "metadata": {},
     "output_type": "execute_result"
    }
   ],
   "source": [
    "train.head()"
   ]
  },
  {
   "cell_type": "code",
   "execution_count": 35,
   "metadata": {},
   "outputs": [
    {
     "data": {
      "text/plain": [
       "2"
      ]
     },
     "execution_count": 35,
     "metadata": {},
     "output_type": "execute_result"
    }
   ],
   "source": [
    "import numpy as np\n",
    "from sklearn.model_selection import KFold\n",
    "X = np.array([[1, 2], [3, 4], [1, 2], [3, 4]])\n",
    "y = np.array([1, 2, 3, 4])\n",
    "kf = KFold(n_splits=2)\n",
    "kf.get_n_splits(X)\n"
   ]
  },
  {
   "cell_type": "code",
   "execution_count": 36,
   "metadata": {},
   "outputs": [
    {
     "name": "stdout",
     "output_type": "stream",
     "text": [
      "KFold(n_splits=2, random_state=None, shuffle=False)\n",
      "TRAIN: [2 3] TEST: [0 1]\n",
      "TRAIN: [0 1] TEST: [2 3]\n"
     ]
    }
   ],
   "source": [
    "\n",
    "KFold(n_splits=2, random_state=None, shuffle=False)\n",
    "for train_index, test_index in kf.split(X):\n",
    "    print(\"TRAIN:\", train_index, \"TEST:\", test_index)\n",
    "    X_train, X_test = X[train_index], X[test_index]\n",
    "    y_train, y_test = y[train_index], y[test_index]"
   ]
  },
  {
   "cell_type": "code",
   "execution_count": 87,
   "metadata": {},
   "outputs": [
    {
     "name": "stdout",
     "output_type": "stream",
     "text": [
      "GroupKFold(n_splits=3)\n",
      "Train Index: [0 1 3 4] ,Test Index: [2 5]\n",
      "[[ 1  2]\n",
      " [ 3  4]\n",
      " [ 7  8]\n",
      " [ 9 10]] [[ 5  6]\n",
      " [11 12]] [1 2 4 5] [3 6]\n",
      "Train Index: [0 2 3 5] ,Test Index: [1 4]\n",
      "[[ 1  2]\n",
      " [ 5  6]\n",
      " [ 7  8]\n",
      " [11 12]] [[ 3  4]\n",
      " [ 9 10]] [1 3 4 6] [2 5]\n",
      "Train Index: [1 2 4 5] ,Test Index: [0 3]\n",
      "[[ 3  4]\n",
      " [ 5  6]\n",
      " [ 9 10]\n",
      " [11 12]] [[1 2]\n",
      " [7 8]] [2 3 5 6] [1 4]\n"
     ]
    }
   ],
   "source": [
    "X=np.array([[1,2],[3,4],[5,6],[7,8],[9,10],[11,12]])\n",
    "y=np.array([1,2,3,4,5,6])\n",
    "groups=np.array([1,2,3,4,5,6])\n",
    "group_kfold=GroupKFold(n_splits=3)\n",
    "group_kfold.get_n_splits(X,y,groups)\n",
    "print(group_kfold)\n",
    "for train_index,test_index in group_kfold.split(X,y,groups):\n",
    "    print(\"Train Index:\",train_index,\",Test Index:\",test_index)\n",
    "    X_train,X_test=X[train_index],X[test_index]\n",
    "    y_train,y_test=y[train_index],y[test_index]\n",
    "    print(X_train,X_test,y_train,y_test)"
   ]
  },
  {
   "cell_type": "code",
   "execution_count": 68,
   "metadata": {},
   "outputs": [],
   "source": [
    "for df in [train, test]:\n",
    "    df['date'] = pd.to_datetime(df['visitStartTime'], unit='s')\n",
    "    df['sess_date_dow'] = df['date'].dt.dayofweek\n",
    "    df['sess_date_hours'] = df['date'].dt.hour\n",
    "    df['sess_date_dom'] = df['date'].dt.day"
   ]
  },
  {
   "cell_type": "code",
   "execution_count": 69,
   "metadata": {},
   "outputs": [
    {
     "data": {
      "text/html": [
       "<div>\n",
       "<style scoped>\n",
       "    .dataframe tbody tr th:only-of-type {\n",
       "        vertical-align: middle;\n",
       "    }\n",
       "\n",
       "    .dataframe tbody tr th {\n",
       "        vertical-align: top;\n",
       "    }\n",
       "\n",
       "    .dataframe thead th {\n",
       "        text-align: right;\n",
       "    }\n",
       "</style>\n",
       "<table border=\"1\" class=\"dataframe\">\n",
       "  <thead>\n",
       "    <tr style=\"text-align: right;\">\n",
       "      <th></th>\n",
       "      <th>channelGrouping</th>\n",
       "      <th>date</th>\n",
       "      <th>fullVisitorId</th>\n",
       "      <th>sessionId</th>\n",
       "      <th>visitId</th>\n",
       "      <th>visitNumber</th>\n",
       "      <th>visitStartTime</th>\n",
       "      <th>device.browser</th>\n",
       "      <th>device.deviceCategory</th>\n",
       "      <th>device.isMobile</th>\n",
       "      <th>...</th>\n",
       "      <th>trafficSource.adContent</th>\n",
       "      <th>trafficSource.campaign</th>\n",
       "      <th>trafficSource.isTrueDirect</th>\n",
       "      <th>trafficSource.keyword</th>\n",
       "      <th>trafficSource.medium</th>\n",
       "      <th>trafficSource.referralPath</th>\n",
       "      <th>trafficSource.source</th>\n",
       "      <th>sess_date_dow</th>\n",
       "      <th>sess_date_hours</th>\n",
       "      <th>sess_date_dom</th>\n",
       "    </tr>\n",
       "  </thead>\n",
       "  <tbody>\n",
       "    <tr>\n",
       "      <th>0</th>\n",
       "      <td>Organic Search</td>\n",
       "      <td>2016-09-02 15:33:05</td>\n",
       "      <td>1131660440785968503</td>\n",
       "      <td>1131660440785968503_1472830385</td>\n",
       "      <td>1.472830e+09</td>\n",
       "      <td>1.0</td>\n",
       "      <td>1.472830e+09</td>\n",
       "      <td>Chrome</td>\n",
       "      <td>desktop</td>\n",
       "      <td>0.0</td>\n",
       "      <td>...</td>\n",
       "      <td>NaN</td>\n",
       "      <td>(not set)</td>\n",
       "      <td>NaN</td>\n",
       "      <td>(not provided)</td>\n",
       "      <td>organic</td>\n",
       "      <td>NaN</td>\n",
       "      <td>google</td>\n",
       "      <td>4</td>\n",
       "      <td>15</td>\n",
       "      <td>2</td>\n",
       "    </tr>\n",
       "    <tr>\n",
       "      <th>1</th>\n",
       "      <td>Organic Search</td>\n",
       "      <td>2016-09-03 05:22:27</td>\n",
       "      <td>377306020877927890</td>\n",
       "      <td>377306020877927890_1472880147</td>\n",
       "      <td>1.472880e+09</td>\n",
       "      <td>1.0</td>\n",
       "      <td>1.472880e+09</td>\n",
       "      <td>Firefox</td>\n",
       "      <td>desktop</td>\n",
       "      <td>0.0</td>\n",
       "      <td>...</td>\n",
       "      <td>NaN</td>\n",
       "      <td>(not set)</td>\n",
       "      <td>NaN</td>\n",
       "      <td>(not provided)</td>\n",
       "      <td>organic</td>\n",
       "      <td>NaN</td>\n",
       "      <td>google</td>\n",
       "      <td>5</td>\n",
       "      <td>5</td>\n",
       "      <td>3</td>\n",
       "    </tr>\n",
       "    <tr>\n",
       "      <th>2</th>\n",
       "      <td>Organic Search</td>\n",
       "      <td>2016-09-03 01:16:26</td>\n",
       "      <td>3895546263509774583</td>\n",
       "      <td>3895546263509774583_1472865386</td>\n",
       "      <td>1.472865e+09</td>\n",
       "      <td>1.0</td>\n",
       "      <td>1.472865e+09</td>\n",
       "      <td>Chrome</td>\n",
       "      <td>desktop</td>\n",
       "      <td>0.0</td>\n",
       "      <td>...</td>\n",
       "      <td>NaN</td>\n",
       "      <td>(not set)</td>\n",
       "      <td>NaN</td>\n",
       "      <td>(not provided)</td>\n",
       "      <td>organic</td>\n",
       "      <td>NaN</td>\n",
       "      <td>google</td>\n",
       "      <td>5</td>\n",
       "      <td>1</td>\n",
       "      <td>3</td>\n",
       "    </tr>\n",
       "    <tr>\n",
       "      <th>3</th>\n",
       "      <td>Organic Search</td>\n",
       "      <td>2016-09-03 05:40:13</td>\n",
       "      <td>4763447161404445595</td>\n",
       "      <td>4763447161404445595_1472881213</td>\n",
       "      <td>1.472881e+09</td>\n",
       "      <td>1.0</td>\n",
       "      <td>1.472881e+09</td>\n",
       "      <td>UC Browser</td>\n",
       "      <td>desktop</td>\n",
       "      <td>0.0</td>\n",
       "      <td>...</td>\n",
       "      <td>NaN</td>\n",
       "      <td>(not set)</td>\n",
       "      <td>NaN</td>\n",
       "      <td>google + online</td>\n",
       "      <td>organic</td>\n",
       "      <td>NaN</td>\n",
       "      <td>google</td>\n",
       "      <td>5</td>\n",
       "      <td>5</td>\n",
       "      <td>3</td>\n",
       "    </tr>\n",
       "    <tr>\n",
       "      <th>4</th>\n",
       "      <td>Organic Search</td>\n",
       "      <td>2016-09-02 13:23:20</td>\n",
       "      <td>27294437909732085</td>\n",
       "      <td>27294437909732085_1472822600</td>\n",
       "      <td>1.472823e+09</td>\n",
       "      <td>2.0</td>\n",
       "      <td>1.472823e+09</td>\n",
       "      <td>Chrome</td>\n",
       "      <td>mobile</td>\n",
       "      <td>1.0</td>\n",
       "      <td>...</td>\n",
       "      <td>NaN</td>\n",
       "      <td>(not set)</td>\n",
       "      <td>1.0</td>\n",
       "      <td>(not provided)</td>\n",
       "      <td>organic</td>\n",
       "      <td>NaN</td>\n",
       "      <td>google</td>\n",
       "      <td>4</td>\n",
       "      <td>13</td>\n",
       "      <td>2</td>\n",
       "    </tr>\n",
       "  </tbody>\n",
       "</table>\n",
       "<p>5 rows × 32 columns</p>\n",
       "</div>"
      ],
      "text/plain": [
       "  channelGrouping                date        fullVisitorId  \\\n",
       "0  Organic Search 2016-09-02 15:33:05  1131660440785968503   \n",
       "1  Organic Search 2016-09-03 05:22:27   377306020877927890   \n",
       "2  Organic Search 2016-09-03 01:16:26  3895546263509774583   \n",
       "3  Organic Search 2016-09-03 05:40:13  4763447161404445595   \n",
       "4  Organic Search 2016-09-02 13:23:20    27294437909732085   \n",
       "\n",
       "                        sessionId       visitId  visitNumber  visitStartTime  \\\n",
       "0  1131660440785968503_1472830385  1.472830e+09          1.0    1.472830e+09   \n",
       "1   377306020877927890_1472880147  1.472880e+09          1.0    1.472880e+09   \n",
       "2  3895546263509774583_1472865386  1.472865e+09          1.0    1.472865e+09   \n",
       "3  4763447161404445595_1472881213  1.472881e+09          1.0    1.472881e+09   \n",
       "4    27294437909732085_1472822600  1.472823e+09          2.0    1.472823e+09   \n",
       "\n",
       "  device.browser device.deviceCategory  device.isMobile  ...  \\\n",
       "0         Chrome               desktop              0.0  ...   \n",
       "1        Firefox               desktop              0.0  ...   \n",
       "2         Chrome               desktop              0.0  ...   \n",
       "3     UC Browser               desktop              0.0  ...   \n",
       "4         Chrome                mobile              1.0  ...   \n",
       "\n",
       "  trafficSource.adContent trafficSource.campaign trafficSource.isTrueDirect  \\\n",
       "0                     NaN              (not set)                        NaN   \n",
       "1                     NaN              (not set)                        NaN   \n",
       "2                     NaN              (not set)                        NaN   \n",
       "3                     NaN              (not set)                        NaN   \n",
       "4                     NaN              (not set)                        1.0   \n",
       "\n",
       "  trafficSource.keyword trafficSource.medium trafficSource.referralPath  \\\n",
       "0        (not provided)              organic                        NaN   \n",
       "1        (not provided)              organic                        NaN   \n",
       "2        (not provided)              organic                        NaN   \n",
       "3       google + online              organic                        NaN   \n",
       "4        (not provided)              organic                        NaN   \n",
       "\n",
       "  trafficSource.source sess_date_dow  sess_date_hours  sess_date_dom  \n",
       "0               google             4               15              2  \n",
       "1               google             5                5              3  \n",
       "2               google             5                1              3  \n",
       "3               google             5                5              3  \n",
       "4               google             4               13              2  \n",
       "\n",
       "[5 rows x 32 columns]"
      ]
     },
     "execution_count": 69,
     "metadata": {},
     "output_type": "execute_result"
    }
   ],
   "source": [
    "train.head()"
   ]
  },
  {
   "cell_type": "code",
   "execution_count": 70,
   "metadata": {},
   "outputs": [],
   "source": [
    "excluded_features = [\n",
    "    'date', 'fullVisitorId', 'sessionId', 'totals.transactionRevenue', \n",
    "    'visitId', 'visitStartTime'\n",
    "]\n",
    "\n",
    "categorical_features = [\n",
    "    _f for _f in train.columns\n",
    "    if (_f not in excluded_features) & (train[_f].dtype == 'object')\n",
    "]"
   ]
  },
  {
   "cell_type": "code",
   "execution_count": 75,
   "metadata": {},
   "outputs": [],
   "source": [
    "if train['device.browser'].dtype== 'object':\n",
    "    print(True)\n"
   ]
  },
  {
   "cell_type": "code",
   "execution_count": 74,
   "metadata": {},
   "outputs": [],
   "source": [
    "for f in categorical_features:\n",
    "    train[f], indexer = pd.factorize(train[f])\n",
    "    test[f] = indexer.get_indexer(test[f])"
   ]
  },
  {
   "cell_type": "code",
   "execution_count": 77,
   "metadata": {},
   "outputs": [
    {
     "data": {
      "text/plain": [
       "(array([0, 1, 1, ..., 6, 2, 2], dtype=int64),\n",
       " Int64Index([4, 5, 3, 6, 0, 1, 2], dtype='int64'))"
      ]
     },
     "execution_count": 77,
     "metadata": {},
     "output_type": "execute_result"
    }
   ],
   "source": [
    "pd.factorize(train['sess_date_dow'])  "
   ]
  },
  {
   "cell_type": "code",
   "execution_count": 78,
   "metadata": {},
   "outputs": [
    {
     "name": "stdout",
     "output_type": "stream",
     "text": [
      "['channelGrouping', 'visitNumber', 'device.browser', 'device.deviceCategory', 'device.isMobile', 'device.operatingSystem', 'geoNetwork.city', 'geoNetwork.continent', 'geoNetwork.country', 'geoNetwork.metro', 'geoNetwork.networkDomain', 'geoNetwork.region', 'geoNetwork.subContinent', 'totals.bounces', 'totals.hits', 'totals.newVisits', 'totals.pageviews', 'trafficSource.adContent', 'trafficSource.campaign', 'trafficSource.isTrueDirect', 'trafficSource.keyword', 'trafficSource.medium', 'trafficSource.referralPath', 'trafficSource.source', 'sess_date_dow', 'sess_date_hours', 'sess_date_dom']\n",
      "Training until validation scores don't improve for 50 rounds.\n",
      "[100]\tvalid_0's rmse: 1.66095\tvalid_0's l2: 2.75876\n",
      "[200]\tvalid_0's rmse: 1.64559\tvalid_0's l2: 2.70796\n",
      "[300]\tvalid_0's rmse: 1.64312\tvalid_0's l2: 2.69984\n",
      "[400]\tvalid_0's rmse: 1.64121\tvalid_0's l2: 2.69356\n",
      "[500]\tvalid_0's rmse: 1.64067\tvalid_0's l2: 2.69179\n",
      "[600]\tvalid_0's rmse: 1.63982\tvalid_0's l2: 2.68899\n",
      "Early stopping, best iteration is:\n",
      "[572]\tvalid_0's rmse: 1.63972\tvalid_0's l2: 2.68867\n",
      "Training until validation scores don't improve for 50 rounds.\n",
      "[100]\tvalid_0's rmse: 1.63994\tvalid_0's l2: 2.68941\n",
      "[200]\tvalid_0's rmse: 1.62778\tvalid_0's l2: 2.64967\n",
      "[300]\tvalid_0's rmse: 1.62497\tvalid_0's l2: 2.64054\n",
      "[400]\tvalid_0's rmse: 1.62363\tvalid_0's l2: 2.63617\n",
      "[500]\tvalid_0's rmse: 1.62261\tvalid_0's l2: 2.63285\n",
      "[600]\tvalid_0's rmse: 1.62202\tvalid_0's l2: 2.63094\n",
      "[700]\tvalid_0's rmse: 1.62155\tvalid_0's l2: 2.62943\n",
      "Early stopping, best iteration is:\n",
      "[737]\tvalid_0's rmse: 1.62122\tvalid_0's l2: 2.62835\n",
      "Training until validation scores don't improve for 50 rounds.\n",
      "[100]\tvalid_0's rmse: 1.65426\tvalid_0's l2: 2.73656\n",
      "[200]\tvalid_0's rmse: 1.63875\tvalid_0's l2: 2.68549\n",
      "[300]\tvalid_0's rmse: 1.63505\tvalid_0's l2: 2.67338\n",
      "[400]\tvalid_0's rmse: 1.63181\tvalid_0's l2: 2.66282\n",
      "[500]\tvalid_0's rmse: 1.63084\tvalid_0's l2: 2.65965\n",
      "[600]\tvalid_0's rmse: 1.63051\tvalid_0's l2: 2.65858\n",
      "Early stopping, best iteration is:\n",
      "[606]\tvalid_0's rmse: 1.63041\tvalid_0's l2: 2.65824\n",
      "Training until validation scores don't improve for 50 rounds.\n",
      "[100]\tvalid_0's rmse: 1.63507\tvalid_0's l2: 2.67347\n",
      "[200]\tvalid_0's rmse: 1.623\tvalid_0's l2: 2.63414\n",
      "[300]\tvalid_0's rmse: 1.61905\tvalid_0's l2: 2.62133\n",
      "[400]\tvalid_0's rmse: 1.61694\tvalid_0's l2: 2.61449\n",
      "[500]\tvalid_0's rmse: 1.61614\tvalid_0's l2: 2.61191\n",
      "Early stopping, best iteration is:\n",
      "[481]\tvalid_0's rmse: 1.61589\tvalid_0's l2: 2.61109\n",
      "Training until validation scores don't improve for 50 rounds.\n",
      "[100]\tvalid_0's rmse: 1.6732\tvalid_0's l2: 2.79959\n",
      "[200]\tvalid_0's rmse: 1.66027\tvalid_0's l2: 2.75651\n",
      "[300]\tvalid_0's rmse: 1.65691\tvalid_0's l2: 2.74534\n",
      "[400]\tvalid_0's rmse: 1.65383\tvalid_0's l2: 2.73514\n",
      "[500]\tvalid_0's rmse: 1.65312\tvalid_0's l2: 2.73281\n",
      "Early stopping, best iteration is:\n",
      "[530]\tvalid_0's rmse: 1.65248\tvalid_0's l2: 2.73067\n"
     ]
    },
    {
     "data": {
      "text/plain": [
       "1.6314694795822213"
      ]
     },
     "execution_count": 78,
     "metadata": {},
     "output_type": "execute_result"
    }
   ],
   "source": [
    "folds = get_folds(df=train, n_splits=5)\n",
    "\n",
    "train_features = [_f for _f in train.columns if _f not in excluded_features]\n",
    "print(train_features)\n",
    "\n",
    "importances = pd.DataFrame()\n",
    "oof_reg_preds = np.zeros(train.shape[0])\n",
    "sub_reg_preds = np.zeros(test.shape[0])\n",
    "for fold_, (trn_, val_) in enumerate(folds):\n",
    "    trn_x, trn_y = train[train_features].iloc[trn_], y_reg.iloc[trn_]\n",
    "    val_x, val_y = train[train_features].iloc[val_], y_reg.iloc[val_]\n",
    "    \n",
    "    reg = lgb.LGBMRegressor(\n",
    "        num_leaves=31,\n",
    "        learning_rate=0.03,\n",
    "        n_estimators=1000,\n",
    "        subsample=.9,\n",
    "        colsample_bytree=.9,\n",
    "        random_state=1\n",
    "    )\n",
    "    reg.fit(\n",
    "        trn_x, np.log1p(trn_y),\n",
    "        eval_set=[(val_x, np.log1p(val_y))],\n",
    "        early_stopping_rounds=50,\n",
    "        verbose=100,\n",
    "        eval_metric='rmse'\n",
    "    )\n",
    "    imp_df = pd.DataFrame()\n",
    "    imp_df['feature'] = train_features\n",
    "    imp_df['gain'] = reg.booster_.feature_importance(importance_type='gain')\n",
    "    \n",
    "    imp_df['fold'] = fold_ + 1\n",
    "    importances = pd.concat([importances, imp_df], axis=0, sort=False)\n",
    "    \n",
    "    oof_reg_preds[val_] = reg.predict(val_x, num_iteration=reg.best_iteration_)\n",
    "    oof_reg_preds[oof_reg_preds < 0] = 0\n",
    "    _preds = reg.predict(test[train_features], num_iteration=reg.best_iteration_)\n",
    "    _preds[_preds < 0] = 0\n",
    "    sub_reg_preds += np.expm1(_preds) / len(folds)\n",
    "    \n",
    "mean_squared_error(np.log1p(y_reg), oof_reg_preds) ** .5"
   ]
  },
  {
   "cell_type": "code",
   "execution_count": 86,
   "metadata": {},
   "outputs": [
    {
     "data": {
      "text/plain": [
       "722546"
      ]
     },
     "execution_count": 86,
     "metadata": {},
     "output_type": "execute_result"
    }
   ],
   "source": [
    "len(folds[0][0])"
   ]
  },
  {
   "cell_type": "code",
   "execution_count": 98,
   "metadata": {},
   "outputs": [
    {
     "data": {
      "text/plain": [
       "<matplotlib.axes._subplots.AxesSubplot at 0x184f28b4400>"
      ]
     },
     "execution_count": 98,
     "metadata": {},
     "output_type": "execute_result"
    },
    {
     "data": {
      "image/png": "[encoded data removed]",
      "text/plain": [
       "<Figure size 576x864 with 1 Axes>"
      ]
     },
     "metadata": {
      "needs_background": "light"
     },
     "output_type": "display_data"
    }
   ],
   "source": [
    "import warnings\n",
    "warnings.simplefilter('ignore', FutureWarning)\n",
    "\n",
    "importances['gain_log'] = np.log1p(importances['gain'])\n",
    "mean_gain = importances[['gain', 'feature']].groupby('feature').mean()\n",
    "importances['mean_gain'] = importances['feature'].map(mean_gain['gain'])\n",
    "\n",
    "plt.figure(figsize=(8, 12))\n",
    "sns.barplot(x='gain_log', y='feature', data=importances.sort_values('mean_gain', ascending=False))"
   ]
  },
  {
   "cell_type": "code",
   "execution_count": 89,
   "metadata": {},
   "outputs": [],
   "source": [
    "\n"
   ]
  },
  {
   "cell_type": "code",
   "execution_count": 90,
   "metadata": {},
   "outputs": [
    {
     "data": {
      "text/html": [
       "<div>\n",
       "<style scoped>\n",
       "    .dataframe tbody tr th:only-of-type {\n",
       "        vertical-align: middle;\n",
       "    }\n",
       "\n",
       "    .dataframe tbody tr th {\n",
       "        vertical-align: top;\n",
       "    }\n",
       "\n",
       "    .dataframe thead th {\n",
       "        text-align: right;\n",
       "    }\n",
       "</style>\n",
       "<table border=\"1\" class=\"dataframe\">\n",
       "  <thead>\n",
       "    <tr style=\"text-align: right;\">\n",
       "      <th></th>\n",
       "      <th>A</th>\n",
       "    </tr>\n",
       "  </thead>\n",
       "  <tbody>\n",
       "    <tr>\n",
       "      <th>0</th>\n",
       "      <td>True</td>\n",
       "    </tr>\n",
       "    <tr>\n",
       "      <th>1</th>\n",
       "      <td>False</td>\n",
       "    </tr>\n",
       "    <tr>\n",
       "      <th>2</th>\n",
       "      <td>True</td>\n",
       "    </tr>\n",
       "  </tbody>\n",
       "</table>\n",
       "</div>"
      ],
      "text/plain": [
       "       A\n",
       "0   True\n",
       "1  False\n",
       "2   True"
      ]
     },
     "execution_count": 90,
     "metadata": {},
     "output_type": "execute_result"
    }
   ],
   "source": []
  },
  {
   "cell_type": "code",
   "execution_count": 92,
   "metadata": {},
   "outputs": [
    {
     "data": {
      "text/plain": [
       "array([0, 1, 2])"
      ]
     },
     "execution_count": 92,
     "metadata": {},
     "output_type": "execute_result"
    }
   ],
   "source": []
  },
  {
   "cell_type": "code",
   "execution_count": 97,
   "metadata": {},
   "outputs": [
    {
     "data": {
      "text/plain": [
       "array([0, 2])"
      ]
     },
     "execution_count": 97,
     "metadata": {},
     "output_type": "execute_result"
    }
   ],
   "source": []
  },
  {
   "cell_type": "code",
   "execution_count": null,
   "metadata": {},
   "outputs": [],
   "source": []
  }
 ],
 "metadata": {
  "kernelspec": {
   "display_name": "Python 3",
   "language": "python",
   "name": "python3"
  },
  "language_info": {
   "codemirror_mode": {
    "name": "ipython",
    "version": 3
   },
   "file_extension": ".py",
   "mimetype": "text/x-python",
   "name": "python",
   "nbconvert_exporter": "python",
   "pygments_lexer": "ipython3",
   "version": "3.7.3"
  }
 },
 "nbformat": 4,
 "nbformat_minor": 1
}
